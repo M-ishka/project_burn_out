{
 "cells": [
  {
   "cell_type": "code",
   "execution_count": 1,
   "id": "7f12a82b",
   "metadata": {},
   "outputs": [
    {
     "data": {
      "text/plain": [
       "'\\nAbout Dataset\\nContext\\nUnderstanding what will be the Burn Rate for the employee working in an organization based on the current pandemic situation where work from home is a boon and a bane. How are employees\\' Burn Rate affected based on various conditions provided?\\n\\nContent\\nGlobally, World Mental Health Day is celebrated on October 10 each year. The objective of this day is to raise awareness about mental health issues around the world and mobilize efforts in support of mental health. According to an anonymous survey, about 450 million people live with mental disorders that can be one of the primary causes of poor health and disability worldwide. These days when the world is suffering from a pandemic situation, it becomes really hard to maintain mental fitness.\\n\\nEmployee ID: The unique ID allocated for each employee (example: fffe390032003000)\\nDate of Joining: The date-time when the employee has joined the organization (example: 2008-12-30)\\nGender: The gender of the employee (Male/Female)\\nCompany Type: The type of company where the employee is working (Service/Product)\\nWFH Setup Available: Is the work from home facility available for the employee (Yes/No)\\nDesignation: The designation of the employee of work in the organization.\\nIn the range of [0.0, 5.0] bigger is higher designation.\\nResource Allocation: The amount of resource allocated to the employee to work, ie. number of working hours.\\nIn the range of [1.0, 10.0] (higher means more resource)\\nMental Fatigue Score: The level of fatigue mentally the employee is facing.\\nIn the range of [0.0, 10.0] where 0.0 means no fatigue and 10.0 means completely fatigue.\\nBurn Rate: The value we need to predict for each employee telling the rate of Bur out while working.\\nIn the range of [0.0, 1.0] where the higher the value is more is the burn out.\\nAcknowledgements\\nA special thanks to the HackerEarth Competition on the topic \"HackerEarth Machine Learning Challenge: Are your employees burning out? which can be accessed here for this data collection.\\n\\nInspiration\\nTry to build some really amazing predictions keeping in mind that happy and healthy employees are indisputably more productive at work, and in turn, help the business flourish profoundly.\\noriginal from https://www.kaggle.com/datasets/blurredmachine/are-your-employees-burning-out\\n'"
      ]
     },
     "execution_count": 1,
     "metadata": {},
     "output_type": "execute_result"
    }
   ],
   "source": [
    "'''\n",
    "About Dataset\n",
    "Context\n",
    "Understanding what will be the Burn Rate for the employee working in an organization based on the current pandemic situation where work from home is a boon and a bane. How are employees' Burn Rate affected based on various conditions provided?\n",
    "\n",
    "Content\n",
    "Globally, World Mental Health Day is celebrated on October 10 each year. The objective of this day is to raise awareness about mental health issues around the world and mobilize efforts in support of mental health. According to an anonymous survey, about 450 million people live with mental disorders that can be one of the primary causes of poor health and disability worldwide. These days when the world is suffering from a pandemic situation, it becomes really hard to maintain mental fitness.\n",
    "\n",
    "Employee ID: The unique ID allocated for each employee (example: fffe390032003000)\n",
    "Date of Joining: The date-time when the employee has joined the organization (example: 2008-12-30)\n",
    "Gender: The gender of the employee (Male/Female)\n",
    "Company Type: The type of company where the employee is working (Service/Product)\n",
    "WFH Setup Available: Is the work from home facility available for the employee (Yes/No)\n",
    "Designation: The designation of the employee of work in the organization.\n",
    "In the range of [0.0, 5.0] bigger is higher designation.\n",
    "Resource Allocation: The amount of resource allocated to the employee to work, ie. number of working hours.\n",
    "In the range of [1.0, 10.0] (higher means more resource)\n",
    "Mental Fatigue Score: The level of fatigue mentally the employee is facing.\n",
    "In the range of [0.0, 10.0] where 0.0 means no fatigue and 10.0 means completely fatigue.\n",
    "Burn Rate: The value we need to predict for each employee telling the rate of Bur out while working.\n",
    "In the range of [0.0, 1.0] where the higher the value is more is the burn out.\n",
    "Acknowledgements\n",
    "A special thanks to the HackerEarth Competition on the topic \"HackerEarth Machine Learning Challenge: Are your employees burning out? which can be accessed here for this data collection.\n",
    "\n",
    "Inspiration\n",
    "Try to build some really amazing predictions keeping in mind that happy and healthy employees are indisputably more productive at work, and in turn, help the business flourish profoundly.\n",
    "original from https://www.kaggle.com/datasets/blurredmachine/are-your-employees-burning-out\n",
    "'''"
   ]
  },
  {
   "cell_type": "code",
   "execution_count": 2,
   "id": "7458d99e",
   "metadata": {
    "scrolled": true
   },
   "outputs": [],
   "source": [
    "import pandas as pd\n",
    "import seaborn as sns\n",
    "import matplotlib.pyplot as plt\n",
    "import missingno as msno\n",
    "import phik\n",
    "from sklearn.model_selection import train_test_split\n",
    "from catboost import CatBoostRegressor\n",
    "from sklearn.metrics import mean_absolute_error, mean_absolute_percentage_error, r2_score, mean_squared_error\n",
    "from warnings import simplefilter\n",
    "simplefilter(action='ignore', category=FutureWarning)"
   ]
  },
  {
   "cell_type": "code",
   "execution_count": 3,
   "id": "e3454e72",
   "metadata": {},
   "outputs": [],
   "source": [
    "df = pd.read_csv('train.csv')"
   ]
  },
  {
   "cell_type": "code",
   "execution_count": 4,
   "id": "ee793b6c",
   "metadata": {},
   "outputs": [
    {
     "data": {
      "text/html": [
       "<div>\n",
       "<style scoped>\n",
       "    .dataframe tbody tr th:only-of-type {\n",
       "        vertical-align: middle;\n",
       "    }\n",
       "\n",
       "    .dataframe tbody tr th {\n",
       "        vertical-align: top;\n",
       "    }\n",
       "\n",
       "    .dataframe thead th {\n",
       "        text-align: right;\n",
       "    }\n",
       "</style>\n",
       "<table border=\"1\" class=\"dataframe\">\n",
       "  <thead>\n",
       "    <tr style=\"text-align: right;\">\n",
       "      <th></th>\n",
       "      <th>Employee ID</th>\n",
       "      <th>Date of Joining</th>\n",
       "      <th>Gender</th>\n",
       "      <th>Company Type</th>\n",
       "      <th>WFH Setup Available</th>\n",
       "      <th>Designation</th>\n",
       "      <th>Resource Allocation</th>\n",
       "      <th>Mental Fatigue Score</th>\n",
       "      <th>Burn Rate</th>\n",
       "    </tr>\n",
       "  </thead>\n",
       "  <tbody>\n",
       "    <tr>\n",
       "      <th>0</th>\n",
       "      <td>fffe32003000360033003200</td>\n",
       "      <td>2008-09-30</td>\n",
       "      <td>Female</td>\n",
       "      <td>Service</td>\n",
       "      <td>No</td>\n",
       "      <td>2.0</td>\n",
       "      <td>3.0</td>\n",
       "      <td>3.8</td>\n",
       "      <td>0.16</td>\n",
       "    </tr>\n",
       "    <tr>\n",
       "      <th>1</th>\n",
       "      <td>fffe3700360033003500</td>\n",
       "      <td>2008-11-30</td>\n",
       "      <td>Male</td>\n",
       "      <td>Service</td>\n",
       "      <td>Yes</td>\n",
       "      <td>1.0</td>\n",
       "      <td>2.0</td>\n",
       "      <td>5.0</td>\n",
       "      <td>0.36</td>\n",
       "    </tr>\n",
       "    <tr>\n",
       "      <th>2</th>\n",
       "      <td>fffe31003300320037003900</td>\n",
       "      <td>2008-03-10</td>\n",
       "      <td>Female</td>\n",
       "      <td>Product</td>\n",
       "      <td>Yes</td>\n",
       "      <td>2.0</td>\n",
       "      <td>NaN</td>\n",
       "      <td>5.8</td>\n",
       "      <td>0.49</td>\n",
       "    </tr>\n",
       "    <tr>\n",
       "      <th>3</th>\n",
       "      <td>fffe32003400380032003900</td>\n",
       "      <td>2008-11-03</td>\n",
       "      <td>Male</td>\n",
       "      <td>Service</td>\n",
       "      <td>Yes</td>\n",
       "      <td>1.0</td>\n",
       "      <td>1.0</td>\n",
       "      <td>2.6</td>\n",
       "      <td>0.20</td>\n",
       "    </tr>\n",
       "    <tr>\n",
       "      <th>4</th>\n",
       "      <td>fffe31003900340031003600</td>\n",
       "      <td>2008-07-24</td>\n",
       "      <td>Female</td>\n",
       "      <td>Service</td>\n",
       "      <td>No</td>\n",
       "      <td>3.0</td>\n",
       "      <td>7.0</td>\n",
       "      <td>6.9</td>\n",
       "      <td>0.52</td>\n",
       "    </tr>\n",
       "    <tr>\n",
       "      <th>...</th>\n",
       "      <td>...</td>\n",
       "      <td>...</td>\n",
       "      <td>...</td>\n",
       "      <td>...</td>\n",
       "      <td>...</td>\n",
       "      <td>...</td>\n",
       "      <td>...</td>\n",
       "      <td>...</td>\n",
       "      <td>...</td>\n",
       "    </tr>\n",
       "    <tr>\n",
       "      <th>22745</th>\n",
       "      <td>fffe31003500370039003100</td>\n",
       "      <td>2008-12-30</td>\n",
       "      <td>Female</td>\n",
       "      <td>Service</td>\n",
       "      <td>No</td>\n",
       "      <td>1.0</td>\n",
       "      <td>3.0</td>\n",
       "      <td>NaN</td>\n",
       "      <td>0.41</td>\n",
       "    </tr>\n",
       "    <tr>\n",
       "      <th>22746</th>\n",
       "      <td>fffe33003000350031003800</td>\n",
       "      <td>2008-01-19</td>\n",
       "      <td>Female</td>\n",
       "      <td>Product</td>\n",
       "      <td>Yes</td>\n",
       "      <td>3.0</td>\n",
       "      <td>6.0</td>\n",
       "      <td>6.7</td>\n",
       "      <td>0.59</td>\n",
       "    </tr>\n",
       "    <tr>\n",
       "      <th>22747</th>\n",
       "      <td>fffe390032003000</td>\n",
       "      <td>2008-11-05</td>\n",
       "      <td>Male</td>\n",
       "      <td>Service</td>\n",
       "      <td>Yes</td>\n",
       "      <td>3.0</td>\n",
       "      <td>7.0</td>\n",
       "      <td>NaN</td>\n",
       "      <td>0.72</td>\n",
       "    </tr>\n",
       "    <tr>\n",
       "      <th>22748</th>\n",
       "      <td>fffe33003300320036003900</td>\n",
       "      <td>2008-01-10</td>\n",
       "      <td>Female</td>\n",
       "      <td>Service</td>\n",
       "      <td>No</td>\n",
       "      <td>2.0</td>\n",
       "      <td>5.0</td>\n",
       "      <td>5.9</td>\n",
       "      <td>0.52</td>\n",
       "    </tr>\n",
       "    <tr>\n",
       "      <th>22749</th>\n",
       "      <td>fffe3400350031003800</td>\n",
       "      <td>2008-01-06</td>\n",
       "      <td>Male</td>\n",
       "      <td>Product</td>\n",
       "      <td>No</td>\n",
       "      <td>3.0</td>\n",
       "      <td>6.0</td>\n",
       "      <td>7.8</td>\n",
       "      <td>0.61</td>\n",
       "    </tr>\n",
       "  </tbody>\n",
       "</table>\n",
       "<p>22750 rows × 9 columns</p>\n",
       "</div>"
      ],
      "text/plain": [
       "                    Employee ID Date of Joining  Gender Company Type  \\\n",
       "0      fffe32003000360033003200      2008-09-30  Female      Service   \n",
       "1          fffe3700360033003500      2008-11-30    Male      Service   \n",
       "2      fffe31003300320037003900      2008-03-10  Female      Product   \n",
       "3      fffe32003400380032003900      2008-11-03    Male      Service   \n",
       "4      fffe31003900340031003600      2008-07-24  Female      Service   \n",
       "...                         ...             ...     ...          ...   \n",
       "22745  fffe31003500370039003100      2008-12-30  Female      Service   \n",
       "22746  fffe33003000350031003800      2008-01-19  Female      Product   \n",
       "22747          fffe390032003000      2008-11-05    Male      Service   \n",
       "22748  fffe33003300320036003900      2008-01-10  Female      Service   \n",
       "22749      fffe3400350031003800      2008-01-06    Male      Product   \n",
       "\n",
       "      WFH Setup Available  Designation  Resource Allocation  \\\n",
       "0                      No          2.0                  3.0   \n",
       "1                     Yes          1.0                  2.0   \n",
       "2                     Yes          2.0                  NaN   \n",
       "3                     Yes          1.0                  1.0   \n",
       "4                      No          3.0                  7.0   \n",
       "...                   ...          ...                  ...   \n",
       "22745                  No          1.0                  3.0   \n",
       "22746                 Yes          3.0                  6.0   \n",
       "22747                 Yes          3.0                  7.0   \n",
       "22748                  No          2.0                  5.0   \n",
       "22749                  No          3.0                  6.0   \n",
       "\n",
       "       Mental Fatigue Score  Burn Rate  \n",
       "0                       3.8       0.16  \n",
       "1                       5.0       0.36  \n",
       "2                       5.8       0.49  \n",
       "3                       2.6       0.20  \n",
       "4                       6.9       0.52  \n",
       "...                     ...        ...  \n",
       "22745                   NaN       0.41  \n",
       "22746                   6.7       0.59  \n",
       "22747                   NaN       0.72  \n",
       "22748                   5.9       0.52  \n",
       "22749                   7.8       0.61  \n",
       "\n",
       "[22750 rows x 9 columns]"
      ]
     },
     "execution_count": 4,
     "metadata": {},
     "output_type": "execute_result"
    }
   ],
   "source": [
    "df"
   ]
  },
  {
   "cell_type": "code",
   "execution_count": 5,
   "id": "abd6d9de",
   "metadata": {},
   "outputs": [
    {
     "data": {
      "text/html": [
       "<div>\n",
       "<style scoped>\n",
       "    .dataframe tbody tr th:only-of-type {\n",
       "        vertical-align: middle;\n",
       "    }\n",
       "\n",
       "    .dataframe tbody tr th {\n",
       "        vertical-align: top;\n",
       "    }\n",
       "\n",
       "    .dataframe thead th {\n",
       "        text-align: right;\n",
       "    }\n",
       "</style>\n",
       "<table border=\"1\" class=\"dataframe\">\n",
       "  <thead>\n",
       "    <tr style=\"text-align: right;\">\n",
       "      <th></th>\n",
       "      <th>Designation</th>\n",
       "      <th>Resource Allocation</th>\n",
       "      <th>Mental Fatigue Score</th>\n",
       "      <th>Burn Rate</th>\n",
       "    </tr>\n",
       "  </thead>\n",
       "  <tbody>\n",
       "    <tr>\n",
       "      <th>count</th>\n",
       "      <td>22750.000000</td>\n",
       "      <td>21369.000000</td>\n",
       "      <td>20633.000000</td>\n",
       "      <td>21626.000000</td>\n",
       "    </tr>\n",
       "    <tr>\n",
       "      <th>mean</th>\n",
       "      <td>2.178725</td>\n",
       "      <td>4.481398</td>\n",
       "      <td>5.728188</td>\n",
       "      <td>0.452005</td>\n",
       "    </tr>\n",
       "    <tr>\n",
       "      <th>std</th>\n",
       "      <td>1.135145</td>\n",
       "      <td>2.047211</td>\n",
       "      <td>1.920839</td>\n",
       "      <td>0.198226</td>\n",
       "    </tr>\n",
       "    <tr>\n",
       "      <th>min</th>\n",
       "      <td>0.000000</td>\n",
       "      <td>1.000000</td>\n",
       "      <td>0.000000</td>\n",
       "      <td>0.000000</td>\n",
       "    </tr>\n",
       "    <tr>\n",
       "      <th>25%</th>\n",
       "      <td>1.000000</td>\n",
       "      <td>3.000000</td>\n",
       "      <td>4.600000</td>\n",
       "      <td>0.310000</td>\n",
       "    </tr>\n",
       "    <tr>\n",
       "      <th>50%</th>\n",
       "      <td>2.000000</td>\n",
       "      <td>4.000000</td>\n",
       "      <td>5.900000</td>\n",
       "      <td>0.450000</td>\n",
       "    </tr>\n",
       "    <tr>\n",
       "      <th>75%</th>\n",
       "      <td>3.000000</td>\n",
       "      <td>6.000000</td>\n",
       "      <td>7.100000</td>\n",
       "      <td>0.590000</td>\n",
       "    </tr>\n",
       "    <tr>\n",
       "      <th>max</th>\n",
       "      <td>5.000000</td>\n",
       "      <td>10.000000</td>\n",
       "      <td>10.000000</td>\n",
       "      <td>1.000000</td>\n",
       "    </tr>\n",
       "  </tbody>\n",
       "</table>\n",
       "</div>"
      ],
      "text/plain": [
       "        Designation  Resource Allocation  Mental Fatigue Score     Burn Rate\n",
       "count  22750.000000         21369.000000          20633.000000  21626.000000\n",
       "mean       2.178725             4.481398              5.728188      0.452005\n",
       "std        1.135145             2.047211              1.920839      0.198226\n",
       "min        0.000000             1.000000              0.000000      0.000000\n",
       "25%        1.000000             3.000000              4.600000      0.310000\n",
       "50%        2.000000             4.000000              5.900000      0.450000\n",
       "75%        3.000000             6.000000              7.100000      0.590000\n",
       "max        5.000000            10.000000             10.000000      1.000000"
      ]
     },
     "execution_count": 5,
     "metadata": {},
     "output_type": "execute_result"
    }
   ],
   "source": [
    "df.describe()"
   ]
  },
  {
   "cell_type": "code",
   "execution_count": 6,
   "id": "590c8600",
   "metadata": {},
   "outputs": [],
   "source": [
    "# let's rename without spaces\n",
    "df = df.rename({'Date of Joining': 'Date_of_Joining',\n",
    "                'Company Type': 'Service',\n",
    "                'WFH Setup Available': 'remotely',\n",
    "                'Resource Allocation': 'Resource_Allocation',\n",
    "                'Mental Fatigue Score': 'Mental_Fatigue_Score',\n",
    "                'Burn Rate': 'Burn_Rate'\n",
    "               }, axis = 1)"
   ]
  },
  {
   "cell_type": "code",
   "execution_count": 8,
   "id": "b78798a4",
   "metadata": {},
   "outputs": [
    {
     "data": {
      "text/plain": [
       "min    2008-01-01\n",
       "max    2008-12-31\n",
       "Name: Date_of_Joining, dtype: object"
      ]
     },
     "execution_count": 8,
     "metadata": {},
     "output_type": "execute_result"
    }
   ],
   "source": [
    "# Let's start in order. All employee joined in 2008\n",
    "df['Date_of_Joining'].agg([min, max])"
   ]
  },
  {
   "cell_type": "code",
   "execution_count": 58,
   "id": "5f803208",
   "metadata": {},
   "outputs": [
    {
     "data": {
      "text/plain": [
       "0    11349\n",
       "1    10277\n",
       "Name: Gender, dtype: int64"
      ]
     },
     "execution_count": 58,
     "metadata": {},
     "output_type": "execute_result"
    }
   ],
   "source": [
    "# roughly in half\n",
    "df['Gender'].value_counts()"
   ]
  },
  {
   "cell_type": "code",
   "execution_count": 7,
   "id": "ce176ee9",
   "metadata": {},
   "outputs": [],
   "source": [
    "# apply OHE\n",
    "df['Gender'] = df['Gender'].replace({'Male': 1,\n",
    "                                 'Female': 0})"
   ]
  },
  {
   "cell_type": "code",
   "execution_count": 9,
   "id": "c4f7ecde",
   "metadata": {},
   "outputs": [
    {
     "data": {
      "text/plain": [
       "Service    14833\n",
       "Product     7917\n",
       "Name: Service, dtype: int64"
      ]
     },
     "execution_count": 9,
     "metadata": {},
     "output_type": "execute_result"
    }
   ],
   "source": [
    "df['Service'].value_counts()"
   ]
  },
  {
   "cell_type": "code",
   "execution_count": 10,
   "id": "1c29ac68",
   "metadata": {},
   "outputs": [],
   "source": [
    "df['Service'] = df['Service'].replace({'Service': 1,\n",
    "                                       'Product': 0})"
   ]
  },
  {
   "cell_type": "code",
   "execution_count": 11,
   "id": "425bb74c",
   "metadata": {},
   "outputs": [
    {
     "data": {
      "text/plain": [
       "Yes    12290\n",
       "No     10460\n",
       "Name: remotely, dtype: int64"
      ]
     },
     "execution_count": 11,
     "metadata": {},
     "output_type": "execute_result"
    }
   ],
   "source": [
    "# more, then half on remote\n",
    "df['remotely'].value_counts()"
   ]
  },
  {
   "cell_type": "code",
   "execution_count": 12,
   "id": "613d8346",
   "metadata": {},
   "outputs": [],
   "source": [
    "df['remotely'] = df['remotely'].replace({'Yes': 1,\n",
    "                                         'No': 0})"
   ]
  },
  {
   "cell_type": "code",
   "execution_count": 13,
   "id": "b8eb4315",
   "metadata": {},
   "outputs": [
    {
     "data": {
      "text/html": [
       "<div>\n",
       "<style scoped>\n",
       "    .dataframe tbody tr th:only-of-type {\n",
       "        vertical-align: middle;\n",
       "    }\n",
       "\n",
       "    .dataframe tbody tr th {\n",
       "        vertical-align: top;\n",
       "    }\n",
       "\n",
       "    .dataframe thead th {\n",
       "        text-align: right;\n",
       "    }\n",
       "</style>\n",
       "<table border=\"1\" class=\"dataframe\">\n",
       "  <thead>\n",
       "    <tr style=\"text-align: right;\">\n",
       "      <th></th>\n",
       "      <th>Employee ID</th>\n",
       "      <th>Date_of_Joining</th>\n",
       "      <th>Gender</th>\n",
       "      <th>Service</th>\n",
       "      <th>remotely</th>\n",
       "      <th>Designation</th>\n",
       "      <th>Resource_Allocation</th>\n",
       "      <th>Mental_Fatigue_Score</th>\n",
       "      <th>Burn_Rate</th>\n",
       "    </tr>\n",
       "  </thead>\n",
       "  <tbody>\n",
       "    <tr>\n",
       "      <th>0</th>\n",
       "      <td>fffe32003000360033003200</td>\n",
       "      <td>2008-09-30</td>\n",
       "      <td>0</td>\n",
       "      <td>1</td>\n",
       "      <td>0</td>\n",
       "      <td>2.0</td>\n",
       "      <td>3.0</td>\n",
       "      <td>3.8</td>\n",
       "      <td>0.16</td>\n",
       "    </tr>\n",
       "    <tr>\n",
       "      <th>1</th>\n",
       "      <td>fffe3700360033003500</td>\n",
       "      <td>2008-11-30</td>\n",
       "      <td>1</td>\n",
       "      <td>1</td>\n",
       "      <td>1</td>\n",
       "      <td>1.0</td>\n",
       "      <td>2.0</td>\n",
       "      <td>5.0</td>\n",
       "      <td>0.36</td>\n",
       "    </tr>\n",
       "    <tr>\n",
       "      <th>2</th>\n",
       "      <td>fffe31003300320037003900</td>\n",
       "      <td>2008-03-10</td>\n",
       "      <td>0</td>\n",
       "      <td>0</td>\n",
       "      <td>1</td>\n",
       "      <td>2.0</td>\n",
       "      <td>NaN</td>\n",
       "      <td>5.8</td>\n",
       "      <td>0.49</td>\n",
       "    </tr>\n",
       "    <tr>\n",
       "      <th>3</th>\n",
       "      <td>fffe32003400380032003900</td>\n",
       "      <td>2008-11-03</td>\n",
       "      <td>1</td>\n",
       "      <td>1</td>\n",
       "      <td>1</td>\n",
       "      <td>1.0</td>\n",
       "      <td>1.0</td>\n",
       "      <td>2.6</td>\n",
       "      <td>0.20</td>\n",
       "    </tr>\n",
       "    <tr>\n",
       "      <th>4</th>\n",
       "      <td>fffe31003900340031003600</td>\n",
       "      <td>2008-07-24</td>\n",
       "      <td>0</td>\n",
       "      <td>1</td>\n",
       "      <td>0</td>\n",
       "      <td>3.0</td>\n",
       "      <td>7.0</td>\n",
       "      <td>6.9</td>\n",
       "      <td>0.52</td>\n",
       "    </tr>\n",
       "    <tr>\n",
       "      <th>...</th>\n",
       "      <td>...</td>\n",
       "      <td>...</td>\n",
       "      <td>...</td>\n",
       "      <td>...</td>\n",
       "      <td>...</td>\n",
       "      <td>...</td>\n",
       "      <td>...</td>\n",
       "      <td>...</td>\n",
       "      <td>...</td>\n",
       "    </tr>\n",
       "    <tr>\n",
       "      <th>22745</th>\n",
       "      <td>fffe31003500370039003100</td>\n",
       "      <td>2008-12-30</td>\n",
       "      <td>0</td>\n",
       "      <td>1</td>\n",
       "      <td>0</td>\n",
       "      <td>1.0</td>\n",
       "      <td>3.0</td>\n",
       "      <td>NaN</td>\n",
       "      <td>0.41</td>\n",
       "    </tr>\n",
       "    <tr>\n",
       "      <th>22746</th>\n",
       "      <td>fffe33003000350031003800</td>\n",
       "      <td>2008-01-19</td>\n",
       "      <td>0</td>\n",
       "      <td>0</td>\n",
       "      <td>1</td>\n",
       "      <td>3.0</td>\n",
       "      <td>6.0</td>\n",
       "      <td>6.7</td>\n",
       "      <td>0.59</td>\n",
       "    </tr>\n",
       "    <tr>\n",
       "      <th>22747</th>\n",
       "      <td>fffe390032003000</td>\n",
       "      <td>2008-11-05</td>\n",
       "      <td>1</td>\n",
       "      <td>1</td>\n",
       "      <td>1</td>\n",
       "      <td>3.0</td>\n",
       "      <td>7.0</td>\n",
       "      <td>NaN</td>\n",
       "      <td>0.72</td>\n",
       "    </tr>\n",
       "    <tr>\n",
       "      <th>22748</th>\n",
       "      <td>fffe33003300320036003900</td>\n",
       "      <td>2008-01-10</td>\n",
       "      <td>0</td>\n",
       "      <td>1</td>\n",
       "      <td>0</td>\n",
       "      <td>2.0</td>\n",
       "      <td>5.0</td>\n",
       "      <td>5.9</td>\n",
       "      <td>0.52</td>\n",
       "    </tr>\n",
       "    <tr>\n",
       "      <th>22749</th>\n",
       "      <td>fffe3400350031003800</td>\n",
       "      <td>2008-01-06</td>\n",
       "      <td>1</td>\n",
       "      <td>0</td>\n",
       "      <td>0</td>\n",
       "      <td>3.0</td>\n",
       "      <td>6.0</td>\n",
       "      <td>7.8</td>\n",
       "      <td>0.61</td>\n",
       "    </tr>\n",
       "  </tbody>\n",
       "</table>\n",
       "<p>22750 rows × 9 columns</p>\n",
       "</div>"
      ],
      "text/plain": [
       "                    Employee ID Date_of_Joining  Gender  Service  remotely  \\\n",
       "0      fffe32003000360033003200      2008-09-30       0        1         0   \n",
       "1          fffe3700360033003500      2008-11-30       1        1         1   \n",
       "2      fffe31003300320037003900      2008-03-10       0        0         1   \n",
       "3      fffe32003400380032003900      2008-11-03       1        1         1   \n",
       "4      fffe31003900340031003600      2008-07-24       0        1         0   \n",
       "...                         ...             ...     ...      ...       ...   \n",
       "22745  fffe31003500370039003100      2008-12-30       0        1         0   \n",
       "22746  fffe33003000350031003800      2008-01-19       0        0         1   \n",
       "22747          fffe390032003000      2008-11-05       1        1         1   \n",
       "22748  fffe33003300320036003900      2008-01-10       0        1         0   \n",
       "22749      fffe3400350031003800      2008-01-06       1        0         0   \n",
       "\n",
       "       Designation  Resource_Allocation  Mental_Fatigue_Score  Burn_Rate  \n",
       "0              2.0                  3.0                   3.8       0.16  \n",
       "1              1.0                  2.0                   5.0       0.36  \n",
       "2              2.0                  NaN                   5.8       0.49  \n",
       "3              1.0                  1.0                   2.6       0.20  \n",
       "4              3.0                  7.0                   6.9       0.52  \n",
       "...            ...                  ...                   ...        ...  \n",
       "22745          1.0                  3.0                   NaN       0.41  \n",
       "22746          3.0                  6.0                   6.7       0.59  \n",
       "22747          3.0                  7.0                   NaN       0.72  \n",
       "22748          2.0                  5.0                   5.9       0.52  \n",
       "22749          3.0                  6.0                   7.8       0.61  \n",
       "\n",
       "[22750 rows x 9 columns]"
      ]
     },
     "execution_count": 13,
     "metadata": {},
     "output_type": "execute_result"
    }
   ],
   "source": [
    "df"
   ]
  },
  {
   "cell_type": "code",
   "execution_count": 14,
   "id": "0ae480a4",
   "metadata": {},
   "outputs": [
    {
     "data": {
      "text/plain": [
       "<AxesSubplot:>"
      ]
     },
     "execution_count": 14,
     "metadata": {},
     "output_type": "execute_result"
    },
    {
     "data": {
      "image/png": "[encoded data removed]",
      "text/plain": [
       "<Figure size 792x504 with 2 Axes>"
      ]
     },
     "metadata": {
      "needs_background": "light"
     },
     "output_type": "display_data"
    }
   ],
   "source": [
    "# # let's see correlation in two ways\n",
    "plt.figure(figsize=(11,7))\n",
    "corr = df.corr()\n",
    "sns.heatmap(corr, annot=True)"
   ]
  },
  {
   "cell_type": "code",
   "execution_count": 15,
   "id": "fc06038a",
   "metadata": {},
   "outputs": [
    {
     "name": "stdout",
     "output_type": "stream",
     "text": [
      "interval columns not set, guessing: ['Gender', 'Service', 'remotely', 'Designation', 'Resource_Allocation', 'Mental_Fatigue_Score', 'Burn_Rate']\n"
     ]
    },
    {
     "name": "stderr",
     "output_type": "stream",
     "text": [
      "d:\\anac\\lib\\site-packages\\phik\\data_quality.py:59: UserWarning: The number of unique values of variable Employee ID is large: 22750. Are you sure this is not an interval variable? Analysis for pairs of variables including Employee ID can be slow.\n",
      "  warnings.warn(\n"
     ]
    },
    {
     "data": {
      "text/plain": [
       "<AxesSubplot:>"
      ]
     },
     "execution_count": 15,
     "metadata": {},
     "output_type": "execute_result"
    },
    {
     "data": {
      "image/png": "[encoded data removed]",
      "text/plain": [
       "<Figure size 792x504 with 2 Axes>"
      ]
     },
     "metadata": {
      "needs_background": "light"
     },
     "output_type": "display_data"
    }
   ],
   "source": [
    "# The phik is suitable for calculating correlation in categorical variables and is sensitive to nonlinear dependencies\n",
    "# for example, link between remote job and burn rate different in two ways\n",
    "plt.figure(figsize=(11,7))\n",
    "corr1 = df.phik_matrix()\n",
    "sns.heatmap(corr1, annot=True)"
   ]
  },
  {
   "attachments": {},
   "cell_type": "markdown",
   "id": "dba775d1",
   "metadata": {},
   "source": [
    "# Missing values"
   ]
  },
  {
   "cell_type": "code",
   "execution_count": 16,
   "id": "a848c101",
   "metadata": {},
   "outputs": [
    {
     "data": {
      "text/plain": [
       "Employee ID                0\n",
       "Date_of_Joining            0\n",
       "Gender                     0\n",
       "Service                    0\n",
       "remotely                   0\n",
       "Designation                0\n",
       "Resource_Allocation     1381\n",
       "Mental_Fatigue_Score    2117\n",
       "Burn_Rate               1124\n",
       "dtype: int64"
      ]
     },
     "execution_count": 16,
     "metadata": {},
     "output_type": "execute_result"
    }
   ],
   "source": [
    "df.isna().sum()"
   ]
  },
  {
   "cell_type": "code",
   "execution_count": 17,
   "id": "dda7e55d",
   "metadata": {
    "scrolled": true
   },
   "outputs": [
    {
     "data": {
      "text/plain": [
       "Employee ID             0.000000\n",
       "Date_of_Joining         0.000000\n",
       "Gender                  0.000000\n",
       "Service                 0.000000\n",
       "remotely                0.000000\n",
       "Designation             0.000000\n",
       "Resource_Allocation     0.060703\n",
       "Mental_Fatigue_Score    0.093055\n",
       "Burn_Rate               0.049407\n",
       "dtype: float64"
      ]
     },
     "execution_count": 17,
     "metadata": {},
     "output_type": "execute_result"
    }
   ],
   "source": [
    "df.isna().mean()"
   ]
  },
  {
   "cell_type": "code",
   "execution_count": 18,
   "id": "731cfead",
   "metadata": {},
   "outputs": [
    {
     "data": {
      "text/plain": [
       "<AxesSubplot:>"
      ]
     },
     "execution_count": 18,
     "metadata": {},
     "output_type": "execute_result"
    },
    {
     "data": {
      "image/png": "[encoded data removed]",
      "text/plain": [
       "<Figure size 1800x720 with 2 Axes>"
      ]
     },
     "metadata": {
      "needs_background": "light"
     },
     "output_type": "display_data"
    }
   ],
   "source": [
    "# we have some missing values for numerical values\n",
    "msno.matrix(df)"
   ]
  },
  {
   "cell_type": "code",
   "execution_count": 19,
   "id": "2665ac13",
   "metadata": {},
   "outputs": [],
   "source": [
    "# restoring data for the target variable may degrade the quality of the model\n",
    "df.dropna(subset = 'Burn_Rate',axis = 0, inplace = True)"
   ]
  },
  {
   "cell_type": "code",
   "execution_count": 20,
   "id": "31fd8d6f",
   "metadata": {},
   "outputs": [
    {
     "data": {
      "text/html": [
       "<div>\n",
       "<style scoped>\n",
       "    .dataframe tbody tr th:only-of-type {\n",
       "        vertical-align: middle;\n",
       "    }\n",
       "\n",
       "    .dataframe tbody tr th {\n",
       "        vertical-align: top;\n",
       "    }\n",
       "\n",
       "    .dataframe thead th {\n",
       "        text-align: right;\n",
       "    }\n",
       "</style>\n",
       "<table border=\"1\" class=\"dataframe\">\n",
       "  <thead>\n",
       "    <tr style=\"text-align: right;\">\n",
       "      <th></th>\n",
       "      <th>Employee ID</th>\n",
       "      <th>Date_of_Joining</th>\n",
       "      <th>Gender</th>\n",
       "      <th>Service</th>\n",
       "      <th>remotely</th>\n",
       "      <th>Designation</th>\n",
       "      <th>Resource_Allocation</th>\n",
       "      <th>Mental_Fatigue_Score</th>\n",
       "      <th>Burn_Rate</th>\n",
       "    </tr>\n",
       "  </thead>\n",
       "  <tbody>\n",
       "    <tr>\n",
       "      <th>0</th>\n",
       "      <td>fffe32003000360033003200</td>\n",
       "      <td>2008-09-30</td>\n",
       "      <td>0</td>\n",
       "      <td>1</td>\n",
       "      <td>0</td>\n",
       "      <td>2.0</td>\n",
       "      <td>3.0</td>\n",
       "      <td>3.8</td>\n",
       "      <td>0.16</td>\n",
       "    </tr>\n",
       "    <tr>\n",
       "      <th>1</th>\n",
       "      <td>fffe3700360033003500</td>\n",
       "      <td>2008-11-30</td>\n",
       "      <td>1</td>\n",
       "      <td>1</td>\n",
       "      <td>1</td>\n",
       "      <td>1.0</td>\n",
       "      <td>2.0</td>\n",
       "      <td>5.0</td>\n",
       "      <td>0.36</td>\n",
       "    </tr>\n",
       "    <tr>\n",
       "      <th>2</th>\n",
       "      <td>fffe31003300320037003900</td>\n",
       "      <td>2008-03-10</td>\n",
       "      <td>0</td>\n",
       "      <td>0</td>\n",
       "      <td>1</td>\n",
       "      <td>2.0</td>\n",
       "      <td>NaN</td>\n",
       "      <td>5.8</td>\n",
       "      <td>0.49</td>\n",
       "    </tr>\n",
       "    <tr>\n",
       "      <th>3</th>\n",
       "      <td>fffe32003400380032003900</td>\n",
       "      <td>2008-11-03</td>\n",
       "      <td>1</td>\n",
       "      <td>1</td>\n",
       "      <td>1</td>\n",
       "      <td>1.0</td>\n",
       "      <td>1.0</td>\n",
       "      <td>2.6</td>\n",
       "      <td>0.20</td>\n",
       "    </tr>\n",
       "    <tr>\n",
       "      <th>4</th>\n",
       "      <td>fffe31003900340031003600</td>\n",
       "      <td>2008-07-24</td>\n",
       "      <td>0</td>\n",
       "      <td>1</td>\n",
       "      <td>0</td>\n",
       "      <td>3.0</td>\n",
       "      <td>7.0</td>\n",
       "      <td>6.9</td>\n",
       "      <td>0.52</td>\n",
       "    </tr>\n",
       "    <tr>\n",
       "      <th>...</th>\n",
       "      <td>...</td>\n",
       "      <td>...</td>\n",
       "      <td>...</td>\n",
       "      <td>...</td>\n",
       "      <td>...</td>\n",
       "      <td>...</td>\n",
       "      <td>...</td>\n",
       "      <td>...</td>\n",
       "      <td>...</td>\n",
       "    </tr>\n",
       "    <tr>\n",
       "      <th>22745</th>\n",
       "      <td>fffe31003500370039003100</td>\n",
       "      <td>2008-12-30</td>\n",
       "      <td>0</td>\n",
       "      <td>1</td>\n",
       "      <td>0</td>\n",
       "      <td>1.0</td>\n",
       "      <td>3.0</td>\n",
       "      <td>NaN</td>\n",
       "      <td>0.41</td>\n",
       "    </tr>\n",
       "    <tr>\n",
       "      <th>22746</th>\n",
       "      <td>fffe33003000350031003800</td>\n",
       "      <td>2008-01-19</td>\n",
       "      <td>0</td>\n",
       "      <td>0</td>\n",
       "      <td>1</td>\n",
       "      <td>3.0</td>\n",
       "      <td>6.0</td>\n",
       "      <td>6.7</td>\n",
       "      <td>0.59</td>\n",
       "    </tr>\n",
       "    <tr>\n",
       "      <th>22747</th>\n",
       "      <td>fffe390032003000</td>\n",
       "      <td>2008-11-05</td>\n",
       "      <td>1</td>\n",
       "      <td>1</td>\n",
       "      <td>1</td>\n",
       "      <td>3.0</td>\n",
       "      <td>7.0</td>\n",
       "      <td>NaN</td>\n",
       "      <td>0.72</td>\n",
       "    </tr>\n",
       "    <tr>\n",
       "      <th>22748</th>\n",
       "      <td>fffe33003300320036003900</td>\n",
       "      <td>2008-01-10</td>\n",
       "      <td>0</td>\n",
       "      <td>1</td>\n",
       "      <td>0</td>\n",
       "      <td>2.0</td>\n",
       "      <td>5.0</td>\n",
       "      <td>5.9</td>\n",
       "      <td>0.52</td>\n",
       "    </tr>\n",
       "    <tr>\n",
       "      <th>22749</th>\n",
       "      <td>fffe3400350031003800</td>\n",
       "      <td>2008-01-06</td>\n",
       "      <td>1</td>\n",
       "      <td>0</td>\n",
       "      <td>0</td>\n",
       "      <td>3.0</td>\n",
       "      <td>6.0</td>\n",
       "      <td>7.8</td>\n",
       "      <td>0.61</td>\n",
       "    </tr>\n",
       "  </tbody>\n",
       "</table>\n",
       "<p>21626 rows × 9 columns</p>\n",
       "</div>"
      ],
      "text/plain": [
       "                    Employee ID Date_of_Joining  Gender  Service  remotely  \\\n",
       "0      fffe32003000360033003200      2008-09-30       0        1         0   \n",
       "1          fffe3700360033003500      2008-11-30       1        1         1   \n",
       "2      fffe31003300320037003900      2008-03-10       0        0         1   \n",
       "3      fffe32003400380032003900      2008-11-03       1        1         1   \n",
       "4      fffe31003900340031003600      2008-07-24       0        1         0   \n",
       "...                         ...             ...     ...      ...       ...   \n",
       "22745  fffe31003500370039003100      2008-12-30       0        1         0   \n",
       "22746  fffe33003000350031003800      2008-01-19       0        0         1   \n",
       "22747          fffe390032003000      2008-11-05       1        1         1   \n",
       "22748  fffe33003300320036003900      2008-01-10       0        1         0   \n",
       "22749      fffe3400350031003800      2008-01-06       1        0         0   \n",
       "\n",
       "       Designation  Resource_Allocation  Mental_Fatigue_Score  Burn_Rate  \n",
       "0              2.0                  3.0                   3.8       0.16  \n",
       "1              1.0                  2.0                   5.0       0.36  \n",
       "2              2.0                  NaN                   5.8       0.49  \n",
       "3              1.0                  1.0                   2.6       0.20  \n",
       "4              3.0                  7.0                   6.9       0.52  \n",
       "...            ...                  ...                   ...        ...  \n",
       "22745          1.0                  3.0                   NaN       0.41  \n",
       "22746          3.0                  6.0                   6.7       0.59  \n",
       "22747          3.0                  7.0                   NaN       0.72  \n",
       "22748          2.0                  5.0                   5.9       0.52  \n",
       "22749          3.0                  6.0                   7.8       0.61  \n",
       "\n",
       "[21626 rows x 9 columns]"
      ]
     },
     "execution_count": 20,
     "metadata": {},
     "output_type": "execute_result"
    }
   ],
   "source": [
    "df"
   ]
  },
  {
   "cell_type": "code",
   "execution_count": 21,
   "id": "9cae75d3",
   "metadata": {},
   "outputs": [
    {
     "data": {
      "text/plain": [
       "<AxesSubplot:>"
      ]
     },
     "execution_count": 21,
     "metadata": {},
     "output_type": "execute_result"
    },
    {
     "data": {
      "image/png": "[encoded data removed]",
      "text/plain": [
       "<Figure size 432x288 with 1 Axes>"
      ]
     },
     "metadata": {
      "needs_background": "light"
     },
     "output_type": "display_data"
    }
   ],
   "source": [
    "df['Resource_Allocation'].hist()"
   ]
  },
  {
   "cell_type": "code",
   "execution_count": 22,
   "id": "6ad2504b",
   "metadata": {},
   "outputs": [
    {
     "data": {
      "text/plain": [
       "4.0     3694\n",
       "5.0     3670\n",
       "3.0     3028\n",
       "6.0     2817\n",
       "2.0     1988\n",
       "7.0     1880\n",
       "1.0     1701\n",
       "8.0      992\n",
       "9.0      428\n",
       "10.0     150\n",
       "Name: Resource_Allocation, dtype: int64"
      ]
     },
     "execution_count": 22,
     "metadata": {},
     "output_type": "execute_result"
    }
   ],
   "source": [
    "df['Resource_Allocation'].value_counts()"
   ]
  },
  {
   "cell_type": "code",
   "execution_count": 23,
   "id": "f2fb3acd",
   "metadata": {},
   "outputs": [
    {
     "data": {
      "text/plain": [
       "2.0    7206\n",
       "3.0    5698\n",
       "1.0    4632\n",
       "4.0    2275\n",
       "0.0    1439\n",
       "5.0     376\n",
       "Name: Designation, dtype: int64"
      ]
     },
     "execution_count": 23,
     "metadata": {},
     "output_type": "execute_result"
    }
   ],
   "source": [
    "df['Designation'].value_counts()"
   ]
  },
  {
   "cell_type": "code",
   "execution_count": 24,
   "id": "ec18cf62",
   "metadata": {},
   "outputs": [
    {
     "data": {
      "text/plain": [
       "<AxesSubplot:xlabel='Resource_Allocation', ylabel='Designation'>"
      ]
     },
     "execution_count": 24,
     "metadata": {},
     "output_type": "execute_result"
    },
    {
     "data": {
      "image/png": "[encoded data removed]",
      "text/plain": [
       "<Figure size 432x288 with 1 Axes>"
      ]
     },
     "metadata": {
      "needs_background": "light"
     },
     "output_type": "display_data"
    }
   ],
   "source": [
    "# we have correlation between Resource Allocation and Designation\n",
    "sns.barplot(x = df['Resource_Allocation'], y = df['Designation'])"
   ]
  },
  {
   "cell_type": "markdown",
   "id": "8e86a985",
   "metadata": {},
   "source": [
    "# Resource_Allocation impute"
   ]
  },
  {
   "cell_type": "code",
   "execution_count": 25,
   "id": "b4ad3559",
   "metadata": {},
   "outputs": [],
   "source": [
    "# let's fill in as the median value in the group\n",
    "median_imputer_bins = df.copy()"
   ]
  },
  {
   "cell_type": "code",
   "execution_count": 26,
   "id": "63ea5051",
   "metadata": {},
   "outputs": [
    {
     "data": {
      "text/plain": [
       "Designation\n",
       "0.0    1.0\n",
       "1.0    3.0\n",
       "2.0    4.0\n",
       "3.0    6.0\n",
       "4.0    7.0\n",
       "5.0    9.0\n",
       "Name: Resource_Allocation, dtype: float64"
      ]
     },
     "execution_count": 26,
     "metadata": {},
     "output_type": "execute_result"
    }
   ],
   "source": [
    "Resourse_bins = median_imputer_bins.groupby('Designation')\n",
    "Resourse_bins.Resource_Allocation.median()"
   ]
  },
  {
   "cell_type": "code",
   "execution_count": 27,
   "id": "443063a9",
   "metadata": {},
   "outputs": [],
   "source": [
    "median_imputer_bins.Resource_Allocation = Resourse_bins.Resource_Allocation.apply(lambda x: x.fillna(x.median()))"
   ]
  },
  {
   "cell_type": "code",
   "execution_count": 28,
   "id": "70caaadf",
   "metadata": {},
   "outputs": [
    {
     "data": {
      "text/plain": [
       "0"
      ]
     },
     "execution_count": 28,
     "metadata": {},
     "output_type": "execute_result"
    }
   ],
   "source": [
    "median_imputer_bins.Resource_Allocation.isna().sum()"
   ]
  },
  {
   "cell_type": "code",
   "execution_count": 30,
   "id": "b255185a",
   "metadata": {},
   "outputs": [
    {
     "data": {
      "text/plain": [
       "<AxesSubplot:xlabel='Resource_Allocation', ylabel='Designation'>"
      ]
     },
     "execution_count": 30,
     "metadata": {},
     "output_type": "execute_result"
    },
    {
     "data": {
      "image/png": "[encoded data removed]",
      "text/plain": [
       "<Figure size 432x288 with 1 Axes>"
      ]
     },
     "metadata": {
      "needs_background": "light"
     },
     "output_type": "display_data"
    }
   ],
   "source": [
    "sns.barplot(x = median_imputer_bins['Resource_Allocation'], y = median_imputer_bins['Designation'])"
   ]
  },
  {
   "cell_type": "code",
   "execution_count": 31,
   "id": "306fc9a0",
   "metadata": {},
   "outputs": [],
   "source": [
    "df['Resource_Allocation'] = median_imputer_bins['Resource_Allocation']"
   ]
  },
  {
   "cell_type": "code",
   "execution_count": 32,
   "id": "6686a4ba",
   "metadata": {},
   "outputs": [
    {
     "data": {
      "text/plain": [
       "<AxesSubplot:>"
      ]
     },
     "execution_count": 32,
     "metadata": {},
     "output_type": "execute_result"
    },
    {
     "data": {
      "image/png": "[encoded data removed]",
      "text/plain": [
       "<Figure size 432x288 with 1 Axes>"
      ]
     },
     "metadata": {
      "needs_background": "light"
     },
     "output_type": "display_data"
    }
   ],
   "source": [
    "# the distribution is the same as before\n",
    "df['Resource_Allocation'].hist()"
   ]
  },
  {
   "cell_type": "markdown",
   "id": "b15a56f1",
   "metadata": {},
   "source": [
    "# Mental_Fatigue_Score impute"
   ]
  },
  {
   "cell_type": "code",
   "execution_count": 33,
   "id": "be311d8a",
   "metadata": {},
   "outputs": [
    {
     "data": {
      "text/plain": [
       "<AxesSubplot:>"
      ]
     },
     "execution_count": 33,
     "metadata": {},
     "output_type": "execute_result"
    },
    {
     "data": {
      "image/png": "[encoded data removed]",
      "text/plain": [
       "<Figure size 432x288 with 1 Axes>"
      ]
     },
     "metadata": {
      "needs_background": "light"
     },
     "output_type": "display_data"
    }
   ],
   "source": [
    "df['Mental_Fatigue_Score'].hist()"
   ]
  },
  {
   "cell_type": "code",
   "execution_count": 34,
   "id": "bc025c2d",
   "metadata": {},
   "outputs": [
    {
     "data": {
      "text/plain": [
       "Resource_Allocation\n",
       "1.0     2.6\n",
       "2.0     4.0\n",
       "3.0     4.9\n",
       "4.0     5.6\n",
       "5.0     6.2\n",
       "6.0     6.9\n",
       "7.0     7.5\n",
       "8.0     8.1\n",
       "9.0     8.8\n",
       "10.0    9.5\n",
       "Name: Mental_Fatigue_Score, dtype: float64"
      ]
     },
     "execution_count": 34,
     "metadata": {},
     "output_type": "execute_result"
    }
   ],
   "source": [
    "# most correlation between mental fatigue score and burn rate\n",
    "# but burn rate is target. Next after burn rate is resource allocation\n",
    "# let's fill missing values median in group by resource allocation\n",
    "Mental_bins = median_imputer_bins.groupby('Resource_Allocation')\n",
    "Mental_bins.Mental_Fatigue_Score.median()"
   ]
  },
  {
   "cell_type": "code",
   "execution_count": 35,
   "id": "63ae9334",
   "metadata": {},
   "outputs": [],
   "source": [
    "median_imputer_bins.Mental_Fatigue_Score = Mental_bins.Mental_Fatigue_Score.apply(lambda x: x.fillna(x.median()))"
   ]
  },
  {
   "cell_type": "code",
   "execution_count": 36,
   "id": "d5b266c0",
   "metadata": {},
   "outputs": [
    {
     "data": {
      "text/plain": [
       "0"
      ]
     },
     "execution_count": 36,
     "metadata": {},
     "output_type": "execute_result"
    }
   ],
   "source": [
    "median_imputer_bins.Resource_Allocation.isna().sum()"
   ]
  },
  {
   "cell_type": "code",
   "execution_count": 37,
   "id": "c0cfb904",
   "metadata": {},
   "outputs": [],
   "source": [
    "df['Mental_Fatigue_Score'] = median_imputer_bins['Mental_Fatigue_Score']"
   ]
  },
  {
   "cell_type": "code",
   "execution_count": 38,
   "id": "f9545f53",
   "metadata": {},
   "outputs": [
    {
     "data": {
      "text/plain": [
       "<AxesSubplot:>"
      ]
     },
     "execution_count": 38,
     "metadata": {},
     "output_type": "execute_result"
    },
    {
     "data": {
      "image/png": "[encoded data removed]",
      "text/plain": [
       "<Figure size 432x288 with 1 Axes>"
      ]
     },
     "metadata": {
      "needs_background": "light"
     },
     "output_type": "display_data"
    }
   ],
   "source": [
    "# the distribution is the same as before\n",
    "df['Mental_Fatigue_Score'].hist()"
   ]
  },
  {
   "cell_type": "code",
   "execution_count": 39,
   "id": "22ed2e64",
   "metadata": {},
   "outputs": [
    {
     "data": {
      "text/plain": [
       "Employee ID             0.0\n",
       "Date_of_Joining         0.0\n",
       "Gender                  0.0\n",
       "Service                 0.0\n",
       "remotely                0.0\n",
       "Designation             0.0\n",
       "Resource_Allocation     0.0\n",
       "Mental_Fatigue_Score    0.0\n",
       "Burn_Rate               0.0\n",
       "dtype: float64"
      ]
     },
     "execution_count": 39,
     "metadata": {},
     "output_type": "execute_result"
    }
   ],
   "source": [
    "# we haven't missing values\n",
    "df.isna().mean()"
   ]
  },
  {
   "cell_type": "code",
   "execution_count": 40,
   "id": "292f4517",
   "metadata": {},
   "outputs": [
    {
     "data": {
      "text/html": [
       "<div>\n",
       "<style scoped>\n",
       "    .dataframe tbody tr th:only-of-type {\n",
       "        vertical-align: middle;\n",
       "    }\n",
       "\n",
       "    .dataframe tbody tr th {\n",
       "        vertical-align: top;\n",
       "    }\n",
       "\n",
       "    .dataframe thead th {\n",
       "        text-align: right;\n",
       "    }\n",
       "</style>\n",
       "<table border=\"1\" class=\"dataframe\">\n",
       "  <thead>\n",
       "    <tr style=\"text-align: right;\">\n",
       "      <th></th>\n",
       "      <th>Gender</th>\n",
       "      <th>Service</th>\n",
       "      <th>remotely</th>\n",
       "      <th>Designation</th>\n",
       "      <th>Resource_Allocation</th>\n",
       "      <th>Mental_Fatigue_Score</th>\n",
       "      <th>Burn_Rate</th>\n",
       "    </tr>\n",
       "  </thead>\n",
       "  <tbody>\n",
       "    <tr>\n",
       "      <th>count</th>\n",
       "      <td>21626.000000</td>\n",
       "      <td>21626.000000</td>\n",
       "      <td>21626.000000</td>\n",
       "      <td>21626.000000</td>\n",
       "      <td>21626.000000</td>\n",
       "      <td>21626.000000</td>\n",
       "      <td>21626.000000</td>\n",
       "    </tr>\n",
       "    <tr>\n",
       "      <th>mean</th>\n",
       "      <td>0.475215</td>\n",
       "      <td>0.653103</td>\n",
       "      <td>0.540322</td>\n",
       "      <td>2.178766</td>\n",
       "      <td>4.484741</td>\n",
       "      <td>5.734052</td>\n",
       "      <td>0.452005</td>\n",
       "    </tr>\n",
       "    <tr>\n",
       "      <th>std</th>\n",
       "      <td>0.499397</td>\n",
       "      <td>0.475994</td>\n",
       "      <td>0.498383</td>\n",
       "      <td>1.135428</td>\n",
       "      <td>2.029670</td>\n",
       "      <td>1.888306</td>\n",
       "      <td>0.198226</td>\n",
       "    </tr>\n",
       "    <tr>\n",
       "      <th>min</th>\n",
       "      <td>0.000000</td>\n",
       "      <td>0.000000</td>\n",
       "      <td>0.000000</td>\n",
       "      <td>0.000000</td>\n",
       "      <td>1.000000</td>\n",
       "      <td>0.000000</td>\n",
       "      <td>0.000000</td>\n",
       "    </tr>\n",
       "    <tr>\n",
       "      <th>25%</th>\n",
       "      <td>0.000000</td>\n",
       "      <td>0.000000</td>\n",
       "      <td>0.000000</td>\n",
       "      <td>1.000000</td>\n",
       "      <td>3.000000</td>\n",
       "      <td>4.600000</td>\n",
       "      <td>0.310000</td>\n",
       "    </tr>\n",
       "    <tr>\n",
       "      <th>50%</th>\n",
       "      <td>0.000000</td>\n",
       "      <td>1.000000</td>\n",
       "      <td>1.000000</td>\n",
       "      <td>2.000000</td>\n",
       "      <td>4.000000</td>\n",
       "      <td>5.900000</td>\n",
       "      <td>0.450000</td>\n",
       "    </tr>\n",
       "    <tr>\n",
       "      <th>75%</th>\n",
       "      <td>1.000000</td>\n",
       "      <td>1.000000</td>\n",
       "      <td>1.000000</td>\n",
       "      <td>3.000000</td>\n",
       "      <td>6.000000</td>\n",
       "      <td>7.000000</td>\n",
       "      <td>0.590000</td>\n",
       "    </tr>\n",
       "    <tr>\n",
       "      <th>max</th>\n",
       "      <td>1.000000</td>\n",
       "      <td>1.000000</td>\n",
       "      <td>1.000000</td>\n",
       "      <td>5.000000</td>\n",
       "      <td>10.000000</td>\n",
       "      <td>10.000000</td>\n",
       "      <td>1.000000</td>\n",
       "    </tr>\n",
       "  </tbody>\n",
       "</table>\n",
       "</div>"
      ],
      "text/plain": [
       "             Gender       Service      remotely   Designation  \\\n",
       "count  21626.000000  21626.000000  21626.000000  21626.000000   \n",
       "mean       0.475215      0.653103      0.540322      2.178766   \n",
       "std        0.499397      0.475994      0.498383      1.135428   \n",
       "min        0.000000      0.000000      0.000000      0.000000   \n",
       "25%        0.000000      0.000000      0.000000      1.000000   \n",
       "50%        0.000000      1.000000      1.000000      2.000000   \n",
       "75%        1.000000      1.000000      1.000000      3.000000   \n",
       "max        1.000000      1.000000      1.000000      5.000000   \n",
       "\n",
       "       Resource_Allocation  Mental_Fatigue_Score     Burn_Rate  \n",
       "count         21626.000000          21626.000000  21626.000000  \n",
       "mean              4.484741              5.734052      0.452005  \n",
       "std               2.029670              1.888306      0.198226  \n",
       "min               1.000000              0.000000      0.000000  \n",
       "25%               3.000000              4.600000      0.310000  \n",
       "50%               4.000000              5.900000      0.450000  \n",
       "75%               6.000000              7.000000      0.590000  \n",
       "max              10.000000             10.000000      1.000000  "
      ]
     },
     "execution_count": 40,
     "metadata": {},
     "output_type": "execute_result"
    }
   ],
   "source": [
    "df.describe()"
   ]
  },
  {
   "cell_type": "code",
   "execution_count": 41,
   "id": "2deb8191",
   "metadata": {},
   "outputs": [],
   "source": [
    "X = ['Date_of_Joining','Gender', 'Service', 'remotely', 'Designation','Resource_Allocation', 'Mental_Fatigue_Score']\n",
    "cat_features = ['Date_of_Joining']\n",
    "y = ['Burn_Rate']"
   ]
  },
  {
   "cell_type": "code",
   "execution_count": 42,
   "id": "de07f05b",
   "metadata": {},
   "outputs": [],
   "source": [
    "# split data frame in train, test and validation \n",
    "train, test = train_test_split(df, train_size = 0.6, random_state = 42)\n",
    "val, test = train_test_split(test, train_size = 0.5, random_state = 42)"
   ]
  },
  {
   "cell_type": "code",
   "execution_count": 43,
   "id": "b9a882fe",
   "metadata": {},
   "outputs": [],
   "source": [
    "from catboost import Pool\n",
    "\n",
    "train_data = Pool(data = train[X],\n",
    "                  label = train[y],\n",
    "                  cat_features = cat_features\n",
    "                 )\n",
    "\n",
    "val_data = Pool(data = val[X],\n",
    "                label = val[y],\n",
    "                cat_features = cat_features\n",
    "                 )\n",
    "\n",
    "test_data = Pool(data = test[X],\n",
    "                 label = test[y],\n",
    "                 cat_features = cat_features\n",
    "                 )"
   ]
  },
  {
   "cell_type": "code",
   "execution_count": 44,
   "id": "e2881615",
   "metadata": {},
   "outputs": [],
   "source": [
    "parameters = {'iterations': 1000,\n",
    "              'cat_features': cat_features,\n",
    "              'eval_metric': 'RMSE',\n",
    "              'verbose': False,\n",
    "              'random_seed': 42}"
   ]
  },
  {
   "cell_type": "code",
   "execution_count": 45,
   "id": "40422f06",
   "metadata": {},
   "outputs": [],
   "source": [
    "model = CatBoostRegressor(**parameters)"
   ]
  },
  {
   "cell_type": "code",
   "execution_count": 46,
   "id": "eb3201b9",
   "metadata": {},
   "outputs": [],
   "source": [
    "# for now we'll use grid only for learning rate\n",
    "grid = {'learning_rate': [0.01, 0.02, 0.03, 0.04, 0.05, 0.06, 0.07, 0.08, 0.09, 0.1]}"
   ]
  },
  {
   "cell_type": "code",
   "execution_count": 47,
   "id": "ce6844f9",
   "metadata": {},
   "outputs": [
    {
     "name": "stdout",
     "output_type": "stream",
     "text": [
      "\n",
      "bestTest = 0.06018509721\n",
      "bestIteration = 999\n",
      "\n",
      "\n",
      "bestTest = 0.06002939237\n",
      "bestIteration = 986\n",
      "\n",
      "\n",
      "bestTest = 0.06011608832\n",
      "bestIteration = 879\n",
      "\n",
      "\n",
      "bestTest = 0.0600393044\n",
      "bestIteration = 724\n",
      "\n",
      "\n",
      "bestTest = 0.06008465202\n",
      "bestIteration = 589\n",
      "\n",
      "\n",
      "bestTest = 0.06007897485\n",
      "bestIteration = 583\n",
      "\n",
      "\n",
      "bestTest = 0.0601032074\n",
      "bestIteration = 523\n",
      "\n",
      "\n",
      "bestTest = 0.060005371\n",
      "bestIteration = 337\n",
      "\n",
      "\n",
      "bestTest = 0.06012713925\n",
      "bestIteration = 373\n",
      "\n",
      "\n",
      "bestTest = 0.06003820714\n",
      "bestIteration = 409\n",
      "\n",
      "Training on fold [0/3]\n",
      "\n",
      "bestTest = 0.05948907628\n",
      "bestIteration = 253\n",
      "\n",
      "Training on fold [1/3]\n",
      "\n",
      "bestTest = 0.0594644476\n",
      "bestIteration = 195\n",
      "\n",
      "Training on fold [2/3]\n",
      "\n",
      "bestTest = 0.06015241607\n",
      "bestIteration = 540\n",
      "\n"
     ]
    }
   ],
   "source": [
    "result = model.grid_search(grid, train_data, verbose = False)"
   ]
  },
  {
   "cell_type": "code",
   "execution_count": 48,
   "id": "9cf62eb6",
   "metadata": {},
   "outputs": [
    {
     "data": {
      "text/plain": [
       "{'learning_rate': 0.08}"
      ]
     },
     "execution_count": 48,
     "metadata": {},
     "output_type": "execute_result"
    }
   ],
   "source": [
    "result['params']"
   ]
  },
  {
   "cell_type": "code",
   "execution_count": 49,
   "id": "35fc6c94",
   "metadata": {},
   "outputs": [],
   "source": [
    "parameters = {'iterations': 1000,\n",
    "              'cat_features': cat_features,\n",
    "              'eval_metric': 'RMSE',\n",
    "              'verbose': 200,\n",
    "              'random_seed': 42,\n",
    "              'learning_rate': 0.08\n",
    "             }"
   ]
  },
  {
   "cell_type": "code",
   "execution_count": 50,
   "id": "b74c8155",
   "metadata": {},
   "outputs": [
    {
     "data": {
      "text/plain": [
       "<catboost.core.CatBoostRegressor at 0x162057cb520>"
      ]
     },
     "execution_count": 50,
     "metadata": {},
     "output_type": "execute_result"
    }
   ],
   "source": [
    "model.fit(train_data, eval_set = val_data)"
   ]
  },
  {
   "cell_type": "code",
   "execution_count": 51,
   "id": "6b45c27b",
   "metadata": {},
   "outputs": [
    {
     "data": {
      "text/plain": [
       "array([0.37081436, 0.6299032 , 0.67062338, ..., 0.87379495, 0.4616554 ,\n",
       "       0.32803454])"
      ]
     },
     "execution_count": 51,
     "metadata": {},
     "output_type": "execute_result"
    }
   ],
   "source": [
    "model.predict(test[X])"
   ]
  },
  {
   "cell_type": "code",
   "execution_count": 52,
   "id": "b6018d3a",
   "metadata": {},
   "outputs": [],
   "source": [
    "test['prediction'] = model.predict(test[X])"
   ]
  },
  {
   "cell_type": "code",
   "execution_count": 53,
   "id": "c6788b33",
   "metadata": {
    "scrolled": true
   },
   "outputs": [
    {
     "data": {
      "text/html": [
       "<div>\n",
       "<style scoped>\n",
       "    .dataframe tbody tr th:only-of-type {\n",
       "        vertical-align: middle;\n",
       "    }\n",
       "\n",
       "    .dataframe tbody tr th {\n",
       "        vertical-align: top;\n",
       "    }\n",
       "\n",
       "    .dataframe thead th {\n",
       "        text-align: right;\n",
       "    }\n",
       "</style>\n",
       "<table border=\"1\" class=\"dataframe\">\n",
       "  <thead>\n",
       "    <tr style=\"text-align: right;\">\n",
       "      <th></th>\n",
       "      <th>Employee ID</th>\n",
       "      <th>Date_of_Joining</th>\n",
       "      <th>Gender</th>\n",
       "      <th>Service</th>\n",
       "      <th>remotely</th>\n",
       "      <th>Designation</th>\n",
       "      <th>Resource_Allocation</th>\n",
       "      <th>Mental_Fatigue_Score</th>\n",
       "      <th>Burn_Rate</th>\n",
       "      <th>prediction</th>\n",
       "    </tr>\n",
       "  </thead>\n",
       "  <tbody>\n",
       "    <tr>\n",
       "      <th>7257</th>\n",
       "      <td>fffe33003000370031003300</td>\n",
       "      <td>2008-01-06</td>\n",
       "      <td>1</td>\n",
       "      <td>1</td>\n",
       "      <td>1</td>\n",
       "      <td>2.0</td>\n",
       "      <td>5.0</td>\n",
       "      <td>4.8</td>\n",
       "      <td>0.41</td>\n",
       "      <td>0.370814</td>\n",
       "    </tr>\n",
       "    <tr>\n",
       "      <th>6566</th>\n",
       "      <td>fffe31003100350030003100</td>\n",
       "      <td>2008-01-01</td>\n",
       "      <td>1</td>\n",
       "      <td>1</td>\n",
       "      <td>0</td>\n",
       "      <td>4.0</td>\n",
       "      <td>7.0</td>\n",
       "      <td>7.2</td>\n",
       "      <td>0.50</td>\n",
       "      <td>0.629903</td>\n",
       "    </tr>\n",
       "    <tr>\n",
       "      <th>13190</th>\n",
       "      <td>fffe3700320034003900</td>\n",
       "      <td>2008-10-17</td>\n",
       "      <td>0</td>\n",
       "      <td>1</td>\n",
       "      <td>0</td>\n",
       "      <td>2.0</td>\n",
       "      <td>7.0</td>\n",
       "      <td>7.5</td>\n",
       "      <td>0.70</td>\n",
       "      <td>0.670623</td>\n",
       "    </tr>\n",
       "    <tr>\n",
       "      <th>18423</th>\n",
       "      <td>fffe3200320032003800</td>\n",
       "      <td>2008-11-23</td>\n",
       "      <td>0</td>\n",
       "      <td>1</td>\n",
       "      <td>1</td>\n",
       "      <td>3.0</td>\n",
       "      <td>5.0</td>\n",
       "      <td>6.8</td>\n",
       "      <td>0.47</td>\n",
       "      <td>0.517307</td>\n",
       "    </tr>\n",
       "    <tr>\n",
       "      <th>12990</th>\n",
       "      <td>fffe3900360038003500</td>\n",
       "      <td>2008-11-18</td>\n",
       "      <td>1</td>\n",
       "      <td>0</td>\n",
       "      <td>0</td>\n",
       "      <td>2.0</td>\n",
       "      <td>5.0</td>\n",
       "      <td>4.8</td>\n",
       "      <td>0.42</td>\n",
       "      <td>0.384361</td>\n",
       "    </tr>\n",
       "    <tr>\n",
       "      <th>...</th>\n",
       "      <td>...</td>\n",
       "      <td>...</td>\n",
       "      <td>...</td>\n",
       "      <td>...</td>\n",
       "      <td>...</td>\n",
       "      <td>...</td>\n",
       "      <td>...</td>\n",
       "      <td>...</td>\n",
       "      <td>...</td>\n",
       "      <td>...</td>\n",
       "    </tr>\n",
       "    <tr>\n",
       "      <th>18201</th>\n",
       "      <td>fffe3200300030003800</td>\n",
       "      <td>2008-07-04</td>\n",
       "      <td>0</td>\n",
       "      <td>0</td>\n",
       "      <td>1</td>\n",
       "      <td>2.0</td>\n",
       "      <td>4.0</td>\n",
       "      <td>4.6</td>\n",
       "      <td>0.41</td>\n",
       "      <td>0.324489</td>\n",
       "    </tr>\n",
       "    <tr>\n",
       "      <th>7402</th>\n",
       "      <td>fffe3100320034003900</td>\n",
       "      <td>2008-11-05</td>\n",
       "      <td>1</td>\n",
       "      <td>1</td>\n",
       "      <td>0</td>\n",
       "      <td>2.0</td>\n",
       "      <td>4.0</td>\n",
       "      <td>6.4</td>\n",
       "      <td>0.60</td>\n",
       "      <td>0.501461</td>\n",
       "    </tr>\n",
       "    <tr>\n",
       "      <th>4395</th>\n",
       "      <td>fffe32003800360036003500</td>\n",
       "      <td>2008-01-05</td>\n",
       "      <td>1</td>\n",
       "      <td>0</td>\n",
       "      <td>0</td>\n",
       "      <td>3.0</td>\n",
       "      <td>7.0</td>\n",
       "      <td>9.8</td>\n",
       "      <td>0.85</td>\n",
       "      <td>0.873795</td>\n",
       "    </tr>\n",
       "    <tr>\n",
       "      <th>12639</th>\n",
       "      <td>fffe32003600370033003600</td>\n",
       "      <td>2008-07-08</td>\n",
       "      <td>0</td>\n",
       "      <td>0</td>\n",
       "      <td>1</td>\n",
       "      <td>2.0</td>\n",
       "      <td>5.0</td>\n",
       "      <td>5.9</td>\n",
       "      <td>0.54</td>\n",
       "      <td>0.461655</td>\n",
       "    </tr>\n",
       "    <tr>\n",
       "      <th>10394</th>\n",
       "      <td>fffe32003900320030003700</td>\n",
       "      <td>2008-02-22</td>\n",
       "      <td>0</td>\n",
       "      <td>1</td>\n",
       "      <td>1</td>\n",
       "      <td>1.0</td>\n",
       "      <td>4.0</td>\n",
       "      <td>4.3</td>\n",
       "      <td>0.32</td>\n",
       "      <td>0.328035</td>\n",
       "    </tr>\n",
       "  </tbody>\n",
       "</table>\n",
       "<p>4326 rows × 10 columns</p>\n",
       "</div>"
      ],
      "text/plain": [
       "                    Employee ID Date_of_Joining  Gender  Service  remotely  \\\n",
       "7257   fffe33003000370031003300      2008-01-06       1        1         1   \n",
       "6566   fffe31003100350030003100      2008-01-01       1        1         0   \n",
       "13190      fffe3700320034003900      2008-10-17       0        1         0   \n",
       "18423      fffe3200320032003800      2008-11-23       0        1         1   \n",
       "12990      fffe3900360038003500      2008-11-18       1        0         0   \n",
       "...                         ...             ...     ...      ...       ...   \n",
       "18201      fffe3200300030003800      2008-07-04       0        0         1   \n",
       "7402       fffe3100320034003900      2008-11-05       1        1         0   \n",
       "4395   fffe32003800360036003500      2008-01-05       1        0         0   \n",
       "12639  fffe32003600370033003600      2008-07-08       0        0         1   \n",
       "10394  fffe32003900320030003700      2008-02-22       0        1         1   \n",
       "\n",
       "       Designation  Resource_Allocation  Mental_Fatigue_Score  Burn_Rate  \\\n",
       "7257           2.0                  5.0                   4.8       0.41   \n",
       "6566           4.0                  7.0                   7.2       0.50   \n",
       "13190          2.0                  7.0                   7.5       0.70   \n",
       "18423          3.0                  5.0                   6.8       0.47   \n",
       "12990          2.0                  5.0                   4.8       0.42   \n",
       "...            ...                  ...                   ...        ...   \n",
       "18201          2.0                  4.0                   4.6       0.41   \n",
       "7402           2.0                  4.0                   6.4       0.60   \n",
       "4395           3.0                  7.0                   9.8       0.85   \n",
       "12639          2.0                  5.0                   5.9       0.54   \n",
       "10394          1.0                  4.0                   4.3       0.32   \n",
       "\n",
       "       prediction  \n",
       "7257     0.370814  \n",
       "6566     0.629903  \n",
       "13190    0.670623  \n",
       "18423    0.517307  \n",
       "12990    0.384361  \n",
       "...           ...  \n",
       "18201    0.324489  \n",
       "7402     0.501461  \n",
       "4395     0.873795  \n",
       "12639    0.461655  \n",
       "10394    0.328035  \n",
       "\n",
       "[4326 rows x 10 columns]"
      ]
     },
     "execution_count": 53,
     "metadata": {},
     "output_type": "execute_result"
    }
   ],
   "source": [
    "test"
   ]
  },
  {
   "cell_type": "code",
   "execution_count": 54,
   "id": "5a90a503",
   "metadata": {},
   "outputs": [
    {
     "data": {
      "text/html": [
       "<div>\n",
       "<style scoped>\n",
       "    .dataframe tbody tr th:only-of-type {\n",
       "        vertical-align: middle;\n",
       "    }\n",
       "\n",
       "    .dataframe tbody tr th {\n",
       "        vertical-align: top;\n",
       "    }\n",
       "\n",
       "    .dataframe thead th {\n",
       "        text-align: right;\n",
       "    }\n",
       "</style>\n",
       "<table border=\"1\" class=\"dataframe\">\n",
       "  <thead>\n",
       "    <tr style=\"text-align: right;\">\n",
       "      <th></th>\n",
       "      <th>Feature Id</th>\n",
       "      <th>Importances</th>\n",
       "    </tr>\n",
       "  </thead>\n",
       "  <tbody>\n",
       "    <tr>\n",
       "      <th>0</th>\n",
       "      <td>Mental_Fatigue_Score</td>\n",
       "      <td>79.534965</td>\n",
       "    </tr>\n",
       "    <tr>\n",
       "      <th>1</th>\n",
       "      <td>Resource_Allocation</td>\n",
       "      <td>13.591335</td>\n",
       "    </tr>\n",
       "    <tr>\n",
       "      <th>2</th>\n",
       "      <td>Designation</td>\n",
       "      <td>3.787351</td>\n",
       "    </tr>\n",
       "    <tr>\n",
       "      <th>3</th>\n",
       "      <td>Date_of_Joining</td>\n",
       "      <td>1.410642</td>\n",
       "    </tr>\n",
       "    <tr>\n",
       "      <th>4</th>\n",
       "      <td>remotely</td>\n",
       "      <td>1.165840</td>\n",
       "    </tr>\n",
       "    <tr>\n",
       "      <th>5</th>\n",
       "      <td>Gender</td>\n",
       "      <td>0.334213</td>\n",
       "    </tr>\n",
       "    <tr>\n",
       "      <th>6</th>\n",
       "      <td>Service</td>\n",
       "      <td>0.175653</td>\n",
       "    </tr>\n",
       "  </tbody>\n",
       "</table>\n",
       "</div>"
      ],
      "text/plain": [
       "             Feature Id  Importances\n",
       "0  Mental_Fatigue_Score    79.534965\n",
       "1   Resource_Allocation    13.591335\n",
       "2           Designation     3.787351\n",
       "3       Date_of_Joining     1.410642\n",
       "4              remotely     1.165840\n",
       "5                Gender     0.334213\n",
       "6               Service     0.175653"
      ]
     },
     "execution_count": 54,
     "metadata": {},
     "output_type": "execute_result"
    }
   ],
   "source": [
    "# burnout is most affected by mental fatigue\n",
    "# not suprised\n",
    "model.get_feature_importance(prettified = True)"
   ]
  },
  {
   "cell_type": "code",
   "execution_count": 55,
   "id": "ba0354fb",
   "metadata": {},
   "outputs": [],
   "source": [
    "def error(y_true,y_pred):\n",
    "    print('MAE:', mean_absolute_error(y_true,y_pred))\n",
    "    print('MAPE:', mean_absolute_percentage_error(y_true,y_pred))\n",
    "    print('MSE:', mean_squared_error(y_true,y_pred, squared=False))\n",
    "    print('RMSE:', mean_squared_error(y_true,y_pred, squared=True))\n",
    "    print('R2:', r2_score(y_true,y_pred))"
   ]
  },
  {
   "cell_type": "code",
   "execution_count": 56,
   "id": "0dba9d93",
   "metadata": {},
   "outputs": [
    {
     "name": "stdout",
     "output_type": "stream",
     "text": [
      "MAE: 0.04587970380133922\n",
      "MAPE: 1832879882941.9866\n",
      "MSE: 0.05767430194686822\n",
      "RMSE: 0.003326325105058527\n",
      "R2: 0.9107055816894423\n"
     ]
    }
   ],
   "source": [
    "# more than 90% of R2 is not bad\n",
    "error(test['Burn_Rate'], test['prediction'])"
   ]
  },
  {
   "cell_type": "code",
   "execution_count": null,
   "id": "1f7cf837",
   "metadata": {},
   "outputs": [],
   "source": []
  }
 ],
 "metadata": {
  "kernelspec": {
   "display_name": "Python 3 (ipykernel)",
   "language": "python",
   "name": "python3"
  },
  "language_info": {
   "codemirror_mode": {
    "name": "ipython",
    "version": 3
   },
   "file_extension": ".py",
   "mimetype": "text/x-python",
   "name": "python",
   "nbconvert_exporter": "python",
   "pygments_lexer": "ipython3",
   "version": "3.9.12"
  },
  "toc": {
   "base_numbering": 1,
   "nav_menu": {},
   "number_sections": true,
   "sideBar": true,
   "skip_h1_title": false,
   "title_cell": "Table of Contents",
   "title_sidebar": "Contents",
   "toc_cell": false,
   "toc_position": {},
   "toc_section_display": true,
   "toc_window_display": true
  }
 },
 "nbformat": 4,
 "nbformat_minor": 5
}
